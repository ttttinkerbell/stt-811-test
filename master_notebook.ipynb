{
 "cells": [
  {
   "cell_type": "markdown",
   "id": "ee5540b1",
   "metadata": {},
   "source": [
    "# Exploring the Alzheimer's prediction dataset from [kaggle](https://www.kaggle.com/datasets/ankushpanday1/alzheimers-prediction-dataset-global)"
   ]
  },
  {
   "cell_type": "markdown",
   "id": "c9325baa",
   "metadata": {},
   "source": [
    "### Loading the Dataset"
   ]
  },
  {
   "cell_type": "code",
   "execution_count": 1,
   "id": "ec2ab1cb",
   "metadata": {},
   "outputs": [],
   "source": [
    "import pandas as pd\n",
    "\n",
    "alzheimers = pd.read_csv(\"data/alzheimers.csv\")"
   ]
  },
  {
   "cell_type": "markdown",
   "id": "5923cdac",
   "metadata": {},
   "source": [
    "### Summary Statistics"
   ]
  },
  {
   "cell_type": "code",
   "execution_count": null,
   "id": "40487b84",
   "metadata": {},
   "outputs": [
    {
     "data": {
      "text/html": [
       "<style type=\"text/css\">\n",
       "</style>\n",
       "<table id=\"T_58f45\">\n",
       "  <caption>Numerical Columns</caption>\n",
       "  <thead>\n",
       "    <tr>\n",
       "      <th class=\"blank level0\" >&nbsp;</th>\n",
       "      <th id=\"T_58f45_level0_col0\" class=\"col_heading level0 col0\" >Age</th>\n",
       "      <th id=\"T_58f45_level0_col1\" class=\"col_heading level0 col1\" >Education Level</th>\n",
       "      <th id=\"T_58f45_level0_col2\" class=\"col_heading level0 col2\" >BMI</th>\n",
       "      <th id=\"T_58f45_level0_col3\" class=\"col_heading level0 col3\" >Cognitive Test Score</th>\n",
       "    </tr>\n",
       "  </thead>\n",
       "  <tbody>\n",
       "    <tr>\n",
       "      <th id=\"T_58f45_level0_row0\" class=\"row_heading level0 row0\" >count</th>\n",
       "      <td id=\"T_58f45_row0_col0\" class=\"data row0 col0\" >74283.000000</td>\n",
       "      <td id=\"T_58f45_row0_col1\" class=\"data row0 col1\" >74283.000000</td>\n",
       "      <td id=\"T_58f45_row0_col2\" class=\"data row0 col2\" >74283.000000</td>\n",
       "      <td id=\"T_58f45_row0_col3\" class=\"data row0 col3\" >74283.000000</td>\n",
       "    </tr>\n",
       "    <tr>\n",
       "      <th id=\"T_58f45_level0_row1\" class=\"row_heading level0 row1\" >mean</th>\n",
       "      <td id=\"T_58f45_row1_col0\" class=\"data row1 col0\" >71.964703</td>\n",
       "      <td id=\"T_58f45_row1_col1\" class=\"data row1 col1\" >9.487514</td>\n",
       "      <td id=\"T_58f45_row1_col2\" class=\"data row1 col2\" >26.780639</td>\n",
       "      <td id=\"T_58f45_row1_col3\" class=\"data row1 col3\" >64.654241</td>\n",
       "    </tr>\n",
       "    <tr>\n",
       "      <th id=\"T_58f45_level0_row2\" class=\"row_heading level0 row2\" >std</th>\n",
       "      <td id=\"T_58f45_row2_col0\" class=\"data row2 col0\" >12.980748</td>\n",
       "      <td id=\"T_58f45_row2_col1\" class=\"data row2 col1\" >5.757020</td>\n",
       "      <td id=\"T_58f45_row2_col2\" class=\"data row2 col2\" >4.764679</td>\n",
       "      <td id=\"T_58f45_row2_col3\" class=\"data row2 col3\" >20.153247</td>\n",
       "    </tr>\n",
       "    <tr>\n",
       "      <th id=\"T_58f45_level0_row3\" class=\"row_heading level0 row3\" >min</th>\n",
       "      <td id=\"T_58f45_row3_col0\" class=\"data row3 col0\" >50.000000</td>\n",
       "      <td id=\"T_58f45_row3_col1\" class=\"data row3 col1\" >0.000000</td>\n",
       "      <td id=\"T_58f45_row3_col2\" class=\"data row3 col2\" >18.500000</td>\n",
       "      <td id=\"T_58f45_row3_col3\" class=\"data row3 col3\" >30.000000</td>\n",
       "    </tr>\n",
       "    <tr>\n",
       "      <th id=\"T_58f45_level0_row4\" class=\"row_heading level0 row4\" >25%</th>\n",
       "      <td id=\"T_58f45_row4_col0\" class=\"data row4 col0\" >61.000000</td>\n",
       "      <td id=\"T_58f45_row4_col1\" class=\"data row4 col1\" >4.000000</td>\n",
       "      <td id=\"T_58f45_row4_col2\" class=\"data row4 col2\" >22.700000</td>\n",
       "      <td id=\"T_58f45_row4_col3\" class=\"data row4 col3\" >47.000000</td>\n",
       "    </tr>\n",
       "    <tr>\n",
       "      <th id=\"T_58f45_level0_row5\" class=\"row_heading level0 row5\" >50%</th>\n",
       "      <td id=\"T_58f45_row5_col0\" class=\"data row5 col0\" >72.000000</td>\n",
       "      <td id=\"T_58f45_row5_col1\" class=\"data row5 col1\" >9.000000</td>\n",
       "      <td id=\"T_58f45_row5_col2\" class=\"data row5 col2\" >26.800000</td>\n",
       "      <td id=\"T_58f45_row5_col3\" class=\"data row5 col3\" >65.000000</td>\n",
       "    </tr>\n",
       "    <tr>\n",
       "      <th id=\"T_58f45_level0_row6\" class=\"row_heading level0 row6\" >75%</th>\n",
       "      <td id=\"T_58f45_row6_col0\" class=\"data row6 col0\" >83.000000</td>\n",
       "      <td id=\"T_58f45_row6_col1\" class=\"data row6 col1\" >14.000000</td>\n",
       "      <td id=\"T_58f45_row6_col2\" class=\"data row6 col2\" >30.900000</td>\n",
       "      <td id=\"T_58f45_row6_col3\" class=\"data row6 col3\" >82.000000</td>\n",
       "    </tr>\n",
       "    <tr>\n",
       "      <th id=\"T_58f45_level0_row7\" class=\"row_heading level0 row7\" >max</th>\n",
       "      <td id=\"T_58f45_row7_col0\" class=\"data row7 col0\" >94.000000</td>\n",
       "      <td id=\"T_58f45_row7_col1\" class=\"data row7 col1\" >19.000000</td>\n",
       "      <td id=\"T_58f45_row7_col2\" class=\"data row7 col2\" >35.000000</td>\n",
       "      <td id=\"T_58f45_row7_col3\" class=\"data row7 col3\" >99.000000</td>\n",
       "    </tr>\n",
       "  </tbody>\n",
       "</table>\n"
      ],
      "text/plain": [
       "<pandas.io.formats.style.Styler at 0x2e078231c30>"
      ]
     },
     "metadata": {},
     "output_type": "display_data"
    },
    {
     "data": {
      "text/html": [
       "<style type=\"text/css\">\n",
       "</style>\n",
       "<table id=\"T_4632d\">\n",
       "  <caption>Categorical Columns</caption>\n",
       "  <thead>\n",
       "    <tr>\n",
       "      <th class=\"blank level0\" >&nbsp;</th>\n",
       "      <th id=\"T_4632d_level0_col0\" class=\"col_heading level0 col0\" >Country</th>\n",
       "      <th id=\"T_4632d_level0_col1\" class=\"col_heading level0 col1\" >Gender</th>\n",
       "      <th id=\"T_4632d_level0_col2\" class=\"col_heading level0 col2\" >Physical Activity Level</th>\n",
       "      <th id=\"T_4632d_level0_col3\" class=\"col_heading level0 col3\" >Smoking Status</th>\n",
       "      <th id=\"T_4632d_level0_col4\" class=\"col_heading level0 col4\" >Alcohol Consumption</th>\n",
       "      <th id=\"T_4632d_level0_col5\" class=\"col_heading level0 col5\" >Diabetes</th>\n",
       "      <th id=\"T_4632d_level0_col6\" class=\"col_heading level0 col6\" >Hypertension</th>\n",
       "      <th id=\"T_4632d_level0_col7\" class=\"col_heading level0 col7\" >Cholesterol Level</th>\n",
       "      <th id=\"T_4632d_level0_col8\" class=\"col_heading level0 col8\" >Family History of Alzheimer’s</th>\n",
       "      <th id=\"T_4632d_level0_col9\" class=\"col_heading level0 col9\" >Depression Level</th>\n",
       "      <th id=\"T_4632d_level0_col10\" class=\"col_heading level0 col10\" >Sleep Quality</th>\n",
       "      <th id=\"T_4632d_level0_col11\" class=\"col_heading level0 col11\" >Dietary Habits</th>\n",
       "      <th id=\"T_4632d_level0_col12\" class=\"col_heading level0 col12\" >Air Pollution Exposure</th>\n",
       "      <th id=\"T_4632d_level0_col13\" class=\"col_heading level0 col13\" >Employment Status</th>\n",
       "      <th id=\"T_4632d_level0_col14\" class=\"col_heading level0 col14\" >Marital Status</th>\n",
       "      <th id=\"T_4632d_level0_col15\" class=\"col_heading level0 col15\" >Genetic Risk Factor (APOE-ε4 allele)</th>\n",
       "      <th id=\"T_4632d_level0_col16\" class=\"col_heading level0 col16\" >Social Engagement Level</th>\n",
       "      <th id=\"T_4632d_level0_col17\" class=\"col_heading level0 col17\" >Income Level</th>\n",
       "      <th id=\"T_4632d_level0_col18\" class=\"col_heading level0 col18\" >Stress Levels</th>\n",
       "      <th id=\"T_4632d_level0_col19\" class=\"col_heading level0 col19\" >Urban vs Rural Living</th>\n",
       "      <th id=\"T_4632d_level0_col20\" class=\"col_heading level0 col20\" >Alzheimer’s Diagnosis</th>\n",
       "    </tr>\n",
       "  </thead>\n",
       "  <tbody>\n",
       "    <tr>\n",
       "      <th id=\"T_4632d_level0_row0\" class=\"row_heading level0 row0\" >count</th>\n",
       "      <td id=\"T_4632d_row0_col0\" class=\"data row0 col0\" >74283</td>\n",
       "      <td id=\"T_4632d_row0_col1\" class=\"data row0 col1\" >74283</td>\n",
       "      <td id=\"T_4632d_row0_col2\" class=\"data row0 col2\" >74283</td>\n",
       "      <td id=\"T_4632d_row0_col3\" class=\"data row0 col3\" >74283</td>\n",
       "      <td id=\"T_4632d_row0_col4\" class=\"data row0 col4\" >74283</td>\n",
       "      <td id=\"T_4632d_row0_col5\" class=\"data row0 col5\" >74283</td>\n",
       "      <td id=\"T_4632d_row0_col6\" class=\"data row0 col6\" >74283</td>\n",
       "      <td id=\"T_4632d_row0_col7\" class=\"data row0 col7\" >74283</td>\n",
       "      <td id=\"T_4632d_row0_col8\" class=\"data row0 col8\" >74283</td>\n",
       "      <td id=\"T_4632d_row0_col9\" class=\"data row0 col9\" >74283</td>\n",
       "      <td id=\"T_4632d_row0_col10\" class=\"data row0 col10\" >74283</td>\n",
       "      <td id=\"T_4632d_row0_col11\" class=\"data row0 col11\" >74283</td>\n",
       "      <td id=\"T_4632d_row0_col12\" class=\"data row0 col12\" >74283</td>\n",
       "      <td id=\"T_4632d_row0_col13\" class=\"data row0 col13\" >74283</td>\n",
       "      <td id=\"T_4632d_row0_col14\" class=\"data row0 col14\" >74283</td>\n",
       "      <td id=\"T_4632d_row0_col15\" class=\"data row0 col15\" >74283</td>\n",
       "      <td id=\"T_4632d_row0_col16\" class=\"data row0 col16\" >74283</td>\n",
       "      <td id=\"T_4632d_row0_col17\" class=\"data row0 col17\" >74283</td>\n",
       "      <td id=\"T_4632d_row0_col18\" class=\"data row0 col18\" >74283</td>\n",
       "      <td id=\"T_4632d_row0_col19\" class=\"data row0 col19\" >74283</td>\n",
       "      <td id=\"T_4632d_row0_col20\" class=\"data row0 col20\" >74283</td>\n",
       "    </tr>\n",
       "    <tr>\n",
       "      <th id=\"T_4632d_level0_row1\" class=\"row_heading level0 row1\" >unique</th>\n",
       "      <td id=\"T_4632d_row1_col0\" class=\"data row1 col0\" >20</td>\n",
       "      <td id=\"T_4632d_row1_col1\" class=\"data row1 col1\" >2</td>\n",
       "      <td id=\"T_4632d_row1_col2\" class=\"data row1 col2\" >3</td>\n",
       "      <td id=\"T_4632d_row1_col3\" class=\"data row1 col3\" >3</td>\n",
       "      <td id=\"T_4632d_row1_col4\" class=\"data row1 col4\" >3</td>\n",
       "      <td id=\"T_4632d_row1_col5\" class=\"data row1 col5\" >2</td>\n",
       "      <td id=\"T_4632d_row1_col6\" class=\"data row1 col6\" >2</td>\n",
       "      <td id=\"T_4632d_row1_col7\" class=\"data row1 col7\" >2</td>\n",
       "      <td id=\"T_4632d_row1_col8\" class=\"data row1 col8\" >2</td>\n",
       "      <td id=\"T_4632d_row1_col9\" class=\"data row1 col9\" >3</td>\n",
       "      <td id=\"T_4632d_row1_col10\" class=\"data row1 col10\" >3</td>\n",
       "      <td id=\"T_4632d_row1_col11\" class=\"data row1 col11\" >3</td>\n",
       "      <td id=\"T_4632d_row1_col12\" class=\"data row1 col12\" >3</td>\n",
       "      <td id=\"T_4632d_row1_col13\" class=\"data row1 col13\" >3</td>\n",
       "      <td id=\"T_4632d_row1_col14\" class=\"data row1 col14\" >3</td>\n",
       "      <td id=\"T_4632d_row1_col15\" class=\"data row1 col15\" >2</td>\n",
       "      <td id=\"T_4632d_row1_col16\" class=\"data row1 col16\" >3</td>\n",
       "      <td id=\"T_4632d_row1_col17\" class=\"data row1 col17\" >3</td>\n",
       "      <td id=\"T_4632d_row1_col18\" class=\"data row1 col18\" >3</td>\n",
       "      <td id=\"T_4632d_row1_col19\" class=\"data row1 col19\" >2</td>\n",
       "      <td id=\"T_4632d_row1_col20\" class=\"data row1 col20\" >2</td>\n",
       "    </tr>\n",
       "    <tr>\n",
       "      <th id=\"T_4632d_level0_row2\" class=\"row_heading level0 row2\" >top</th>\n",
       "      <td id=\"T_4632d_row2_col0\" class=\"data row2 col0\" >Brazil</td>\n",
       "      <td id=\"T_4632d_row2_col1\" class=\"data row2 col1\" >Female</td>\n",
       "      <td id=\"T_4632d_row2_col2\" class=\"data row2 col2\" >High</td>\n",
       "      <td id=\"T_4632d_row2_col3\" class=\"data row2 col3\" >Current</td>\n",
       "      <td id=\"T_4632d_row2_col4\" class=\"data row2 col4\" >Never</td>\n",
       "      <td id=\"T_4632d_row2_col5\" class=\"data row2 col5\" >No</td>\n",
       "      <td id=\"T_4632d_row2_col6\" class=\"data row2 col6\" >No</td>\n",
       "      <td id=\"T_4632d_row2_col7\" class=\"data row2 col7\" >Normal</td>\n",
       "      <td id=\"T_4632d_row2_col8\" class=\"data row2 col8\" >No</td>\n",
       "      <td id=\"T_4632d_row2_col9\" class=\"data row2 col9\" >Medium</td>\n",
       "      <td id=\"T_4632d_row2_col10\" class=\"data row2 col10\" >Good</td>\n",
       "      <td id=\"T_4632d_row2_col11\" class=\"data row2 col11\" >Average</td>\n",
       "      <td id=\"T_4632d_row2_col12\" class=\"data row2 col12\" >High</td>\n",
       "      <td id=\"T_4632d_row2_col13\" class=\"data row2 col13\" >Unemployed</td>\n",
       "      <td id=\"T_4632d_row2_col14\" class=\"data row2 col14\" >Single</td>\n",
       "      <td id=\"T_4632d_row2_col15\" class=\"data row2 col15\" >No</td>\n",
       "      <td id=\"T_4632d_row2_col16\" class=\"data row2 col16\" >Medium</td>\n",
       "      <td id=\"T_4632d_row2_col17\" class=\"data row2 col17\" >Low</td>\n",
       "      <td id=\"T_4632d_row2_col18\" class=\"data row2 col18\" >Medium</td>\n",
       "      <td id=\"T_4632d_row2_col19\" class=\"data row2 col19\" >Rural</td>\n",
       "      <td id=\"T_4632d_row2_col20\" class=\"data row2 col20\" >No</td>\n",
       "    </tr>\n",
       "    <tr>\n",
       "      <th id=\"T_4632d_level0_row3\" class=\"row_heading level0 row3\" >freq</th>\n",
       "      <td id=\"T_4632d_row3_col0\" class=\"data row3 col0\" >3839</td>\n",
       "      <td id=\"T_4632d_row3_col1\" class=\"data row3 col1\" >37249</td>\n",
       "      <td id=\"T_4632d_row3_col2\" class=\"data row3 col2\" >24853</td>\n",
       "      <td id=\"T_4632d_row3_col3\" class=\"data row3 col3\" >24915</td>\n",
       "      <td id=\"T_4632d_row3_col4\" class=\"data row3 col4\" >24865</td>\n",
       "      <td id=\"T_4632d_row3_col5\" class=\"data row3 col5\" >59527</td>\n",
       "      <td id=\"T_4632d_row3_col6\" class=\"data row3 col6\" >52134</td>\n",
       "      <td id=\"T_4632d_row3_col7\" class=\"data row3 col7\" >51973</td>\n",
       "      <td id=\"T_4632d_row3_col8\" class=\"data row3 col8\" >52004</td>\n",
       "      <td id=\"T_4632d_row3_col9\" class=\"data row3 col9\" >24843</td>\n",
       "      <td id=\"T_4632d_row3_col10\" class=\"data row3 col10\" >25145</td>\n",
       "      <td id=\"T_4632d_row3_col11\" class=\"data row3 col11\" >24917</td>\n",
       "      <td id=\"T_4632d_row3_col12\" class=\"data row3 col12\" >24906</td>\n",
       "      <td id=\"T_4632d_row3_col13\" class=\"data row3 col13\" >24801</td>\n",
       "      <td id=\"T_4632d_row3_col14\" class=\"data row3 col14\" >25169</td>\n",
       "      <td id=\"T_4632d_row3_col15\" class=\"data row3 col15\" >59561</td>\n",
       "      <td id=\"T_4632d_row3_col16\" class=\"data row3 col16\" >24859</td>\n",
       "      <td id=\"T_4632d_row3_col17\" class=\"data row3 col17\" >24873</td>\n",
       "      <td id=\"T_4632d_row3_col18\" class=\"data row3 col18\" >24886</td>\n",
       "      <td id=\"T_4632d_row3_col19\" class=\"data row3 col19\" >37203</td>\n",
       "      <td id=\"T_4632d_row3_col20\" class=\"data row3 col20\" >43570</td>\n",
       "    </tr>\n",
       "  </tbody>\n",
       "</table>\n"
      ],
      "text/plain": [
       "<pandas.io.formats.style.Styler at 0x2e076807d30>"
      ]
     },
     "metadata": {},
     "output_type": "display_data"
    },
    {
     "name": "stdout",
     "output_type": "stream",
     "text": [
      "<class 'pandas.core.frame.DataFrame'>\n",
      "RangeIndex: 74283 entries, 0 to 74282\n",
      "Data columns (total 25 columns):\n",
      " #   Column                                Non-Null Count  Dtype  \n",
      "---  ------                                --------------  -----  \n",
      " 0   Country                               74283 non-null  object \n",
      " 1   Age                                   74283 non-null  int64  \n",
      " 2   Gender                                74283 non-null  object \n",
      " 3   Education Level                       74283 non-null  int64  \n",
      " 4   BMI                                   74283 non-null  float64\n",
      " 5   Physical Activity Level               74283 non-null  object \n",
      " 6   Smoking Status                        74283 non-null  object \n",
      " 7   Alcohol Consumption                   74283 non-null  object \n",
      " 8   Diabetes                              74283 non-null  object \n",
      " 9   Hypertension                          74283 non-null  object \n",
      " 10  Cholesterol Level                     74283 non-null  object \n",
      " 11  Family History of Alzheimer’s         74283 non-null  object \n",
      " 12  Cognitive Test Score                  74283 non-null  int64  \n",
      " 13  Depression Level                      74283 non-null  object \n",
      " 14  Sleep Quality                         74283 non-null  object \n",
      " 15  Dietary Habits                        74283 non-null  object \n",
      " 16  Air Pollution Exposure                74283 non-null  object \n",
      " 17  Employment Status                     74283 non-null  object \n",
      " 18  Marital Status                        74283 non-null  object \n",
      " 19  Genetic Risk Factor (APOE-ε4 allele)  74283 non-null  object \n",
      " 20  Social Engagement Level               74283 non-null  object \n",
      " 21  Income Level                          74283 non-null  object \n",
      " 22  Stress Levels                         74283 non-null  object \n",
      " 23  Urban vs Rural Living                 74283 non-null  object \n",
      " 24  Alzheimer’s Diagnosis                 74283 non-null  object \n",
      "dtypes: float64(1), int64(3), object(21)\n",
      "memory usage: 14.2+ MB\n"
     ]
    },
    {
     "data": {
      "text/plain": [
       "None"
      ]
     },
     "metadata": {},
     "output_type": "display_data"
    }
   ],
   "source": [
    "display(alzheimers.describe().style.set_caption(\"Numerical Columns\"))\n",
    "display(alzheimers.select_dtypes(include=\"object\").describe().style.set_caption(\"Categorical Columns\"))\n",
    "display(alzheimers.info())"
   ]
  },
  {
   "cell_type": "markdown",
   "id": "24706b7b",
   "metadata": {},
   "source": [
    "This dataset appears to be very clean.\n",
    "- No missing values, the row counts for each attribute remain consistent for all.\n",
    "- Data types appear as expected.\n",
    "- Frequency counts for categorical variables show a good distribution for each."
   ]
  },
  {
   "cell_type": "markdown",
   "id": "c5067023",
   "metadata": {},
   "source": [
    "### Univariate Analysis\n",
    "\n",
    "Linear correlation analysis:"
   ]
  },
  {
   "cell_type": "code",
   "execution_count": null,
   "id": "2c548844",
   "metadata": {},
   "outputs": [
    {
     "data": {
      "image/png": "[encoded data removed]",
      "text/plain": [
       "<Figure size 640x480 with 2 Axes>"
      ]
     },
     "metadata": {},
     "output_type": "display_data"
    }
   ],
   "source": [
    "import matplotlib.pyplot as plt\n",
    "import seaborn as sns\n",
    "\n",
    "sns.heatmap(alzheimers.select_dtypes(include='number').corr().iloc[::-1], vmin=-1, vmax=1, cmap='coolwarm', annot=True, square=True)\n",
    "plt.yticks(rotation=0)\n",
    "plt.xticks(rotation=0)\n",
    "plt.title(\"Linear correlations of numerical features\")\n",
    "plt.tight_layout()\n",
    "plt.show()"
   ]
  },
  {
   "cell_type": "markdown",
   "id": "feb129b9",
   "metadata": {},
   "source": [
    "# Preprocessing"
   ]
  },
  {
   "cell_type": "code",
   "execution_count": 2,
   "id": "5ffaaf30",
   "metadata": {},
   "outputs": [],
   "source": [
    "from preprocessing import alzheimers_preprocessing\n",
    "\n",
    "alzheimers_encoded = alzheimers_preprocessing(alzheimers)"
   ]
  },
  {
   "cell_type": "markdown",
   "id": "eac231c4",
   "metadata": {},
   "source": [
    "Saving to CSV"
   ]
  },
  {
   "cell_type": "code",
   "execution_count": null,
   "id": "d8b7f43f",
   "metadata": {},
   "outputs": [],
   "source": [
    "alzheimers_encoded.to_csv(\"data/alzheimers_encoded.csv\", index=False)"
   ]
  },
  {
   "cell_type": "markdown",
   "id": "992910a1",
   "metadata": {},
   "source": [
    "# Modeling"
   ]
  },
  {
   "cell_type": "markdown",
   "id": "5b5eaccc",
   "metadata": {},
   "source": [
    "### Feature Selection"
   ]
  },
  {
   "cell_type": "code",
   "execution_count": 4,
   "id": "0447858b",
   "metadata": {},
   "outputs": [],
   "source": [
    "import pandas as pd\n",
    "\n",
    "alzheimers = pd.read_csv(\"data/alzheimers.csv\")\n",
    "alzheimers_encoded = pd.read_csv(\"data/alzheimers_encoded.csv\")\n",
    "\n",
    "feature_names = alzheimers_encoded.columns\n",
    "numerical_data = alzheimers_encoded.drop(columns=[\"Alzheimers_Diagnosis_Yes\"])\n",
    "target = alzheimers_encoded['Alzheimers_Diagnosis_Yes']"
   ]
  },
  {
   "cell_type": "markdown",
   "id": "f503243f",
   "metadata": {},
   "source": [
    "Helper timer decorator"
   ]
  },
  {
   "cell_type": "code",
   "execution_count": 5,
   "id": "98688a01",
   "metadata": {},
   "outputs": [],
   "source": [
    "import time\n",
    "from functools import wraps\n",
    "\n",
    "def time_it():\n",
    "    def decorator(func):\n",
    "        @wraps(func)\n",
    "        def wrapper(*args, **kwargs):\n",
    "            start = time.perf_counter()\n",
    "            result = func(*args, **kwargs)\n",
    "            end = time.perf_counter()\n",
    "            print(f\"[TIMER] {func.__name__} took {end - start:.4f} seconds\")\n",
    "            return result\n",
    "        return wrapper\n",
    "    return decorator"
   ]
  },
  {
   "cell_type": "markdown",
   "id": "3b93c625",
   "metadata": {},
   "source": [
    "### CV Strategy"
   ]
  },
  {
   "cell_type": "code",
   "execution_count": 6,
   "id": "bb8f9b3c",
   "metadata": {},
   "outputs": [],
   "source": [
    "from sklearn.model_selection import train_test_split, KFold\n",
    "import numpy as np\n",
    "from sklearn.model_selection import cross_validate\n",
    "\n",
    "# def evaluate(X, y, model):\n",
    "#     predictions = model.predict(X, y)\n",
    "#     accuracy = np.sum(predictions == y) / predictions.__len__()\n",
    "#     return accuracy\n",
    "\n",
    "# def basic_tt_split_validation(X, y, model, train_size = 0.80):\n",
    "#     X_train, X_test, y_train, y_test = train_test_split(X, y, train_size = train_size)\n",
    "#     model.fit(X_train, y_train)\n",
    "#     return evaluate(X_test, y_test, model)\n",
    "\n",
    "# def kfold_tt_split_validation(X, y, model, n_splits = 5):\n",
    "#     kf = KFold(n_splits = n_splits, shuffle = True)\n",
    "#     metrics = []\n",
    "#     for fold, (train_idx, test_idx) in enumerate(kf.split(X)):\n",
    "#         X_train, X_test, y_train, y_test = X[train_idx], X[test_idx], y[train_idx], y[test_idx]\n",
    "#         model.fit(X_train, y_train)\n",
    "#         metrics.append(evaluate(X_test, y_test, model))\n",
    "#     return metrics\n",
    "\n",
    "@time_it()\n",
    "def evaluate_model(estimator, X, y, cv):\n",
    "    scoring = [\"accuracy\", \"precision_macro\", \"recall_macro\", \"f1_macro\"]\n",
    "    cv_results = cross_validate(estimator, X, y, scoring=scoring, cv=cv, n_jobs=-1)\n",
    "\n",
    "    metrics = {\n",
    "        \"accuracy\": np.mean(cv_results[\"test_accuracy\"]),\n",
    "        \"precision\": np.mean(cv_results[\"test_precision_macro\"]),\n",
    "        \"recall\": np.mean(cv_results[\"test_recall_macro\"]),\n",
    "        \"f1\": np.mean(cv_results[\"test_f1_macro\"]),\n",
    "    }\n",
    "    return metrics"
   ]
  },
  {
   "cell_type": "markdown",
   "id": "51f4001f",
   "metadata": {},
   "source": [
    "### Modeling and Results"
   ]
  },
  {
   "cell_type": "code",
   "execution_count": 12,
   "id": "92e42872",
   "metadata": {},
   "outputs": [
    {
     "name": "stdout",
     "output_type": "stream",
     "text": [
      "Running LogisticRegression evaluation:\n",
      "[TIMER] evaluate_model took 3.4549 seconds\n",
      "Running RandomForest evaluation:\n",
      "[TIMER] evaluate_model took 15.2409 seconds\n",
      "Running XGBoost evaluation:\n",
      "[TIMER] evaluate_model took 1.6754 seconds\n",
      "Running NaiveBayes evaluation:\n",
      "[TIMER] evaluate_model took 0.4852 seconds\n",
      "Running LDA evaluation:\n",
      "[TIMER] evaluate_model took 1.6392 seconds\n",
      "Running QDA evaluation:\n",
      "[TIMER] evaluate_model took 1.6333 seconds\n",
      "Running KNN evaluation:\n",
      "[TIMER] evaluate_model took 7.1464 seconds\n",
      "Running SVM evaluation:\n",
      "[TIMER] evaluate_model took 1.1172 seconds\n",
      "\n",
      "LogisticRegression Metrics:\n",
      "\taccuracy: 0.7149\n",
      "\tprecision: 0.7061\n",
      "\trecall: 0.6992\n",
      "\tf1: 0.7015\n",
      "\n",
      "RandomForest Metrics:\n",
      "\taccuracy: 0.7201\n",
      "\tprecision: 0.7113\n",
      "\trecall: 0.7077\n",
      "\tf1: 0.7091\n",
      "\n",
      "XGBoost Metrics:\n",
      "\taccuracy: 0.7148\n",
      "\tprecision: 0.7058\n",
      "\trecall: 0.7047\n",
      "\tf1: 0.7052\n",
      "\n",
      "NaiveBayes Metrics:\n",
      "\taccuracy: 0.6377\n",
      "\tprecision: 0.6251\n",
      "\trecall: 0.6234\n",
      "\tf1: 0.6240\n",
      "\n",
      "LDA Metrics:\n",
      "\taccuracy: 0.7154\n",
      "\tprecision: 0.7065\n",
      "\trecall: 0.7006\n",
      "\tf1: 0.7027\n",
      "\n",
      "QDA Metrics:\n",
      "\taccuracy: 0.6430\n",
      "\tprecision: 0.6310\n",
      "\trecall: 0.6298\n",
      "\tf1: 0.6303\n",
      "\n",
      "KNN Metrics:\n",
      "\taccuracy: 0.6579\n",
      "\tprecision: 0.6450\n",
      "\trecall: 0.6367\n",
      "\tf1: 0.6383\n",
      "\n",
      "SVM Metrics:\n",
      "\taccuracy: 0.7152\n",
      "\tprecision: 0.7064\n",
      "\trecall: 0.7001\n",
      "\tf1: 0.7023\n"
     ]
    }
   ],
   "source": [
    "from sklearn.model_selection import StratifiedKFold\n",
    "from sklearn.linear_model import LogisticRegression\n",
    "from sklearn.ensemble import RandomForestClassifier\n",
    "import xgboost as xgb\n",
    "from sklearn.naive_bayes import GaussianNB\n",
    "from sklearn.discriminant_analysis import LinearDiscriminantAnalysis, QuadraticDiscriminantAnalysis\n",
    "from sklearn.neighbors import KNeighborsClassifier\n",
    "from sklearn.svm import SVC\n",
    "from sklearn.svm import LinearSVC\n",
    "\n",
    "\n",
    "skf = StratifiedKFold(n_splits=5, shuffle=True, random_state=1337)\n",
    "\n",
    "estimators = {\n",
    "    \"LogisticRegression\": LogisticRegression(),\n",
    "    \"RandomForest\": RandomForestClassifier(),\n",
    "    \"XGBoost\": xgb.XGBClassifier(eval_metric=\"logloss\"),\n",
    "    \"NaiveBayes\": GaussianNB(),\n",
    "    \"LDA\": LinearDiscriminantAnalysis(),\n",
    "    \"QDA\": QuadraticDiscriminantAnalysis(),\n",
    "    \"KNN\": KNeighborsClassifier(),\n",
    "    \"SVM\": LinearSVC(C=1.0)\n",
    "}\n",
    "\n",
    "results = {}\n",
    "\n",
    "for name, model in estimators.items():\n",
    "    print(f\"Running {name} evaluation:\")\n",
    "    metrics = evaluate_model(model, numerical_data, target, skf)\n",
    "    results[name] = metrics\n",
    "\n",
    "for name, metrics_dict in results.items():\n",
    "    print(f\"\\n{name} Metrics:\")\n",
    "    for metric_name, metric_val in metrics_dict.items():\n",
    "        print(f\"\\t{metric_name}: {metric_val:.4f}\")"
   ]
  },
  {
   "cell_type": "markdown",
   "id": "a1b8e61e",
   "metadata": {},
   "source": [
    "# Feature Importances"
   ]
  },
  {
   "cell_type": "markdown",
   "id": "12f8c9a3",
   "metadata": {},
   "source": [
    "Only some models have `feature_importances_` or `coef_`, the most straightforward metrics for feature importance. We will only be doing feature importance analysis on those models that have such attributes:"
   ]
  },
  {
   "cell_type": "code",
   "execution_count": 31,
   "id": "fabdb8b4",
   "metadata": {},
   "outputs": [
    {
     "name": "stdout",
     "output_type": "stream",
     "text": [
      "Fitting LogisticRegression ...\n",
      "Fitting RandomForest ...\n",
      "Fitting XGBoost ...\n",
      "Fitting NaiveBayes ...\n",
      "Fitting LDA ...\n",
      "Fitting QDA ...\n",
      "Fitting KNN ...\n",
      "\n",
      "LogisticRegression feature importances:\n",
      "   Genetic_Risk_Factor_(APOE-ε4_allele)_Yes: 1.2644\n",
      "   Age: 1.0653\n",
      "   Family_History_of_Alzheimers_Yes: 0.8254\n",
      "   Country_Russia: 0.5904\n",
      "   Country_India: 0.5464\n",
      "\n",
      "RandomForest feature importances:\n",
      "   Age: 0.2509\n",
      "   BMI: 0.0818\n",
      "   Cognitive_Test_Score: 0.0776\n",
      "   Education_Level: 0.0649\n",
      "   Genetic_Risk_Factor_(APOE-ε4_allele)_Yes: 0.0366\n",
      "\n",
      "XGBoost feature importances:\n",
      "   Genetic_Risk_Factor_(APOE-ε4_allele)_Yes: 0.2010\n",
      "   Age: 0.1338\n",
      "   Family_History_of_Alzheimers_Yes: 0.0960\n",
      "   Country_South_Africa: 0.0249\n",
      "   Country_Russia: 0.0246\n",
      "\n",
      "NaiveBayes does not provide a direct feature importance measure.\n",
      "\n",
      "LDA feature importances:\n",
      "   Genetic_Risk_Factor_(APOE-ε4_allele)_Yes: 1.3064\n",
      "   Age: 1.1303\n",
      "   Family_History_of_Alzheimers_Yes: 0.8412\n",
      "   Country_Russia: 0.5974\n",
      "   Country_India: 0.5563\n",
      "\n",
      "QDA does not provide a direct feature importance measure.\n",
      "\n",
      "KNN does not provide a direct feature importance measure.\n"
     ]
    }
   ],
   "source": [
    "def get_feature_importances(model, feature_names):\n",
    "    # Tree based models usually have a feature_importances_ attribute\n",
    "    if hasattr(model, \"feature_importances_\"):\n",
    "        importances = model.feature_importances_\n",
    "        return list(zip(feature_names, importances))\n",
    "\n",
    "    # Linear models usually have a coef_ attribute\n",
    "    elif hasattr(model, \"coef_\"):\n",
    "        coef = model.coef_\n",
    "        importances = np.abs(coef[0])\n",
    "\n",
    "        return list(zip(feature_names, importances))\n",
    "    else:\n",
    "        return None\n",
    "\n",
    "\n",
    "def run_feature_importance_analysis(num_importances=5):\n",
    "    fitted_models = {}\n",
    "    for name, model in estimators.items():\n",
    "        print(f\"Fitting {name} ...\")\n",
    "        model.fit(numerical_data, target)\n",
    "        fitted_models[name] = model\n",
    "\n",
    "    for name, model in fitted_models.items():\n",
    "        importances = get_feature_importances(model, feature_names)\n",
    "        if importances is not None:\n",
    "            print(f\"\\n{name} feature importances:\")\n",
    "            for feat, val in sorted(importances, key=lambda x: x[1], reverse=True)[:5]:\n",
    "                print(f\"\\t{feat}: {val:.4f}\")\n",
    "        else:\n",
    "            print(f\"\\n{name} does not provide a direct feature importance measure.\")\n",
    "\n",
    "run_feature_importance_analysis()"
   ]
  },
  {
   "cell_type": "code",
   "execution_count": 41,
   "id": "e8497330",
   "metadata": {},
   "outputs": [
    {
     "name": "stdout",
     "output_type": "stream",
     "text": [
      "Fitting RandomForest ...\n",
      "Finished fitting\n"
     ]
    },
    {
     "data": {
      "image/png": "[encoded data removed]",
      "text/plain": [
       "<Figure size 800x500 with 1 Axes>"
      ]
     },
     "metadata": {},
     "output_type": "display_data"
    }
   ],
   "source": [
    "import matplotlib.pyplot as plt\n",
    "def plot_feature_importance(model_name, num_importances = 5):\n",
    "    if model_name in estimators.keys():\n",
    "        print(f\"Fitting {model_name} ...\")\n",
    "        model = estimators[model_name]        \n",
    "        model.fit(numerical_data, target)\n",
    "        print(\"Finished fitting\")\n",
    "        importances = get_feature_importances(model, numerical_data.columns)\n",
    "        sorted_importances = sorted(importances, key=lambda x: x[1], reverse=True)\n",
    "        top_importances = sorted_importances[:num_importances]\n",
    "        # Separate names and values for plotting\n",
    "        labels = [t[0] for t in top_importances]\n",
    "        values = [t[1] for t in top_importances]\n",
    "        \n",
    "        # Create a bar plot\n",
    "        plt.figure(figsize=(8, 5))\n",
    "        plt.barh(range(len(values)), values)\n",
    "        plt.yticks(range(len(values)), labels)\n",
    "        plt.title(f\"Feature Importances ({model_name})\")\n",
    "        plt.xlabel(\"importance\")\n",
    "        plt.ylabel(\"Feature\")\n",
    "        plt.show()\n",
    "\n",
    "plot_feature_importance(\"RandomForest\")"
   ]
  }
 ],
 "metadata": {
  "kernelspec": {
   "display_name": "env",
   "language": "python",
   "name": "python3"
  },
  "language_info": {
   "codemirror_mode": {
    "name": "ipython",
    "version": 3
   },
   "file_extension": ".py",
   "mimetype": "text/x-python",
   "name": "python",
   "nbconvert_exporter": "python",
   "pygments_lexer": "ipython3",
   "version": "3.10.4"
  }
 },
 "nbformat": 4,
 "nbformat_minor": 5
}
